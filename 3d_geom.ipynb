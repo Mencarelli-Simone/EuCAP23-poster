{
 "cells": [
  {
   "cell_type": "code",
   "execution_count": 61,
   "metadata": {
    "collapsed": true
   },
   "outputs": [],
   "source": [
    "# imports\n",
    "from libs.spherical_earth_geometry_radar import *\n",
    "from libs.radartools.farField import UniformAperture\n",
    "import matplotlib.pyplot as plt\n",
    "# This import registers the 3D projection, but is otherwise unused.\n",
    "from mpl_toolkits.mplot3d import Axes3D  # noqa: F401 unused import\n",
    "from mpl_toolkits.mplot3d.axes3d import get_test_data\n",
    "import numpy as np\n",
    "from mpl_toolkits.mplot3d import *\n",
    "import matplotlib\n"
   ]
  },
  {
   "cell_type": "code",
   "execution_count": 62,
   "outputs": [],
   "source": [
    "# From Michelangelo Villano's hands on lab\n",
    "# To open separate plot-windows outside the browser uncomment one of the following two lines\n",
    "%matplotlib qt\n",
    "#get_ipython().run_line_magic('matplotlib','qt5')\n",
    "\n",
    "# To open a Plot-window within notebook with zoom/edit control uncomment one of the following two lines\n",
    "# %matplotlib notebook\n",
    "# get_ipython().run_line_magic('matplotlib','notebook')\n",
    "\n",
    "# options are 'osx', 'qt4', 'qt5', 'gtk3', 'wx', 'qt', 'gtk', 'tk' , 'notebook' , 'inline'"
   ],
   "metadata": {
    "collapsed": false
   }
  },
  {
   "cell_type": "code",
   "execution_count": 63,
   "outputs": [],
   "source": [
    "# params\n",
    "h = 500e3\n",
    "f = 2e9\n",
    "La = 1\n",
    "Wa = .8\n",
    "looking_angle = 45\n"
   ],
   "metadata": {
    "collapsed": false
   }
  },
  {
   "cell_type": "code",
   "execution_count": 64,
   "outputs": [
    {
     "data": {
      "text/plain": "array([[7616.56080712],\n       [   0.        ],\n       [   0.        ]])"
     },
     "execution_count": 64,
     "metadata": {},
     "output_type": "execute_result"
    }
   ],
   "source": [
    "# radar object\n",
    "radgeo = RadarGeometry()\n",
    "radgeo.set_initial_position(0, 0, h)\n",
    "radgeo.set_rotation(looking_angle * np.pi / 180, 0, 0)\n",
    "radgeo.set_speed(radgeo.orbital_speed())"
   ],
   "metadata": {
    "collapsed": false
   }
  },
  {
   "cell_type": "code",
   "execution_count": 65,
   "outputs": [],
   "source": [
    "# aperture object\n",
    "uniap = UniformAperture(La, Wa, f)\n"
   ],
   "metadata": {
    "collapsed": false
   }
  },
  {
   "cell_type": "code",
   "execution_count": 66,
   "outputs": [],
   "source": [
    "# incidence axis\n",
    "eta = np.linspace(0, 90, 801) * np.pi / 180\n",
    "# azimuth axis\n",
    "az = np.linspace(-900, 900, 801) * 1e3\n",
    "# meshgrids\n",
    "ETA, AZ = np.meshgrid(eta, az)\n"
   ],
   "metadata": {
    "collapsed": false
   }
  },
  {
   "cell_type": "code",
   "execution_count": 67,
   "outputs": [
    {
     "name": "stderr",
     "output_type": "stream",
     "text": [
      "C:\\Users\\smen851\\AppData\\Local\\Temp\\ipykernel_6016\\257632140.py:13: RuntimeWarning: divide by zero encountered in log10\n",
      "  II = 10 * np.log10(I / I.max())\n"
     ]
    }
   ],
   "source": [
    "# gcs coordinates of points\n",
    "Xg, Yg, Zg = mesh_incidence_azimuth_to_gcs(ETA, AZ, .3, radgeo.abs_v, h)\n",
    "# lcs coordinate of points\n",
    "X, Y, Z = mesh_gcs_to_lcs(Xg, Yg, Zg, radgeo.Bc2s, radgeo.S_0)\n",
    "# antenna spherical coordinate of points\n",
    "R, T, P = meshCart2sph(X, Y, Z)\n",
    "# antenna pattern\n",
    "G = uniap.mesh_gain_pattern_theor(T, -P) / uniap.max_gain()\n",
    "\n",
    "# illumination\n",
    "I = np.nan_to_num(G / R ** 4)\n",
    "#normalized in decibel\n",
    "II = 10 * np.log10(I / I.max())\n",
    "## dcibel\n",
    "GG = np.nan_to_num(10 * np.log10(G.real))"
   ],
   "metadata": {
    "collapsed": false
   }
  },
  {
   "cell_type": "code",
   "execution_count": 68,
   "outputs": [
    {
     "data": {
      "text/plain": "Text(0, 0.5, 'azimuth [m]')"
     },
     "execution_count": 68,
     "metadata": {},
     "output_type": "execute_result"
    }
   ],
   "source": [
    "## 2 d contourplot\n",
    "fig1, ax1 = plt.subplots(1)\n",
    "# save the contors\n",
    "cs = ax1.contour(eta, az, II, [-27, -24, -21, -18, -15, -12, -9, -6, -3, -.1], cmap='jet')\n",
    "ax1.set_xlabel('incidence [rad]')\n",
    "ax1.set_ylabel('azimuth [m]')"
   ],
   "metadata": {
    "collapsed": false
   }
  },
  {
   "cell_type": "code",
   "execution_count": 69,
   "outputs": [],
   "source": [
    "# extract lines and color of lines\n",
    "listofcontours_i = []\n",
    "listofcontours_a = []\n",
    "listofcontours_rgba = []\n",
    "for item in cs.collections:\n",
    "    rgba = item.get_edgecolor()\n",
    "    for i in item.get_paths():\n",
    "        v = i.vertices\n",
    "        x = v[:, 0]\n",
    "        y = v[:, 1]\n",
    "        listofcontours_i.append(x)\n",
    "        listofcontours_a.append(y)\n",
    "        listofcontours_rgba.append(rgba)"
   ],
   "metadata": {
    "collapsed": false
   }
  },
  {
   "cell_type": "code",
   "execution_count": 69,
   "outputs": [],
   "source": [],
   "metadata": {
    "collapsed": false
   }
  },
  {
   "cell_type": "code",
   "execution_count": 70,
   "outputs": [],
   "source": [
    "#test\n",
    "ax1.plot(listofcontours_i[0], listofcontours_a[0],'r')\n",
    "plt.show()"
   ],
   "metadata": {
    "collapsed": false
   }
  },
  {
   "cell_type": "code",
   "execution_count": 71,
   "outputs": [
    {
     "name": "stdout",
     "output_type": "stream",
     "text": [
      "249 249\n",
      "311 311\n",
      "439 439\n",
      "483 483\n",
      "171 171\n",
      "73 73\n",
      "639 639\n",
      "351 351\n",
      "341 341\n",
      "325 325\n",
      "171 171\n",
      "73 73\n",
      "483 483\n",
      "439 439\n",
      "311 311\n",
      "239 239\n",
      "345 345\n",
      "437 437\n",
      "79 79\n",
      "623 623\n",
      "325 325\n",
      "243 243\n",
      "303 303\n",
      "437 437\n",
      "79 79\n",
      "345 345\n",
      "225 225\n",
      "199 199\n",
      "379 379\n",
      "603 603\n",
      "307 307\n",
      "273 273\n",
      "379 379\n",
      "199 199\n",
      "299 299\n",
      "573 573\n",
      "273 273\n",
      "227 227\n",
      "179 179\n",
      "299 299\n",
      "161 161\n",
      "545 545\n",
      "233 233\n",
      "157 157\n",
      "161 161\n",
      "501 501\n",
      "165 165\n",
      "449 449\n",
      "381 381\n",
      "277 277\n",
      "51 51\n"
     ]
    }
   ],
   "source": [
    "# conversion to sphere surface\n",
    "listofcontours_xg = []\n",
    "listofcontours_yg = []\n",
    "listofcontours_zg = []\n",
    "for ii in range(len(listofcontours_i)):\n",
    "    inc = listofcontours_i[ii]\n",
    "    ax = listofcontours_a[ii]\n",
    "    print(len(inc), len(ax))\n",
    "    x, y, z = incidence_azimuth_to_gcs(inc, ax, 3 * 1e-2, radgeo.abs_v, h)\n",
    "    listofcontours_xg.append(x)\n",
    "    listofcontours_yg.append(y)\n",
    "    listofcontours_zg.append(z)\n",
    "\n"
   ],
   "metadata": {
    "collapsed": false
   }
  },
  {
   "cell_type": "code",
   "execution_count": 72,
   "outputs": [
    {
     "name": "stdout",
     "output_type": "stream",
     "text": [
      "[  -910.30734821  -1820.62094716  -2730.94705412  -3641.29192085\n",
      "  -3656.59506397  -4551.66179889  -5462.06294608  -6372.50161543\n",
      "  -7282.98406526  -8193.51655207  -8745.84840637  -9104.10533412\n",
      " -10014.7566716  -10925.47682717 -11836.27206348 -12747.14864675\n",
      " -13658.11284481 -14569.17092724 -15480.32916586 -16300.35416738\n",
      " -16391.59383599 -17302.97121589 -18214.46758515 -19126.08922777\n",
      " -20037.84243122 -20949.73348549 -21861.76868423 -22773.95432541\n",
      " -23686.29670974 -24598.80214408 -25511.47693738 -26424.32740427\n",
      " -27337.35986327 -28250.58063779 -29163.99605653 -30077.6124527\n",
      " -30991.43616496 -31905.47353712 -32819.73091973 -33734.21466632\n",
      " -34648.93113967 -35201.16480392 -35563.88670637 -36479.08773998\n",
      " -37394.54062016 -38310.25173326 -39226.22747284 -39740.12384635\n",
      " -40142.47423809 -41058.99843706 -41975.80648322 -42892.90479858\n",
      " -43810.29981241 -44727.99796144 -45646.00569092 -46564.32945401\n",
      " -47482.97571148 -48401.95093313 -49321.26159733 -50240.91419126\n",
      " -51160.91521055 -52081.27116043 -53001.98855564 -53923.07391962\n",
      " -54844.53378628 -55766.37469867 -56688.60321031 -57309.12262475\n",
      " -57611.22588472 -58534.24929567 -59457.68002768 -60381.52467585\n",
      " -61305.78984612 -62230.4821558  -63155.60823298 -63865.17743066\n",
      " -64081.17471747 -65007.18826074 -65933.65552611 -66860.58318833\n",
      " -67787.97793499 -68183.37229249 -68715.84646563 -69644.19549256\n",
      " -70573.03174056 -71366.69026669 -71502.3619476  -72432.19286443\n",
      " -73362.5312554  -73837.82171915 -74293.38389787 -75224.7575834\n",
      " -75831.69803817 -76156.65911694 -77089.09531782 -77474.87348678\n",
      " -78022.07301925 -78859.10002625 -78955.59906909 -79889.68032983\n",
      " -80029.84956824 -80824.32367875 -81033.93534065 -81759.53600778\n",
      " -81904.91477592 -82664.62040652 -82695.32422468 -83315.5113981\n",
      " -83631.69525192 -83891.40267159 -84396.72924212 -84568.65602802\n",
      " -84832.2290106  -85213.02017812 -85506.21350713 -85549.9884204\n",
      " -85822.61599872 -86059.71742811 -86260.9492587  -86426.01316786\n",
      " -86444.37465926 -86542.9698578  -86625.28139784 -86674.73428494\n",
      " -86691.22959605 -86674.73428494 -86625.28139784 -86542.9698578\n",
      " -86444.37465926 -86426.01316786 -86260.9492587  -86059.71742811\n",
      " -85822.61599872 -85549.9884204  -85506.21350713 -85213.02017812\n",
      " -84832.2290106  -84568.65602802 -84396.72924212 -83891.40267159\n",
      " -83631.69525192 -83315.5113981  -82695.32422468 -82664.62040652\n",
      " -81904.91477592 -81759.53600778 -81033.93534065 -80824.32367875\n",
      " -80029.84956824 -79889.68032983 -78955.59906909 -78859.10002625\n",
      " -78022.07301925 -77474.87348678 -77089.09531782 -76156.65911694\n",
      " -75831.69803817 -75224.7575834  -74293.38389787 -73837.82171915\n",
      " -73362.5312554  -72432.19286443 -71502.3619476  -71366.69026669\n",
      " -70573.03174056 -69644.19549256 -68715.84646563 -68183.37229249\n",
      " -67787.97793499 -66860.58318833 -65933.65552611 -65007.18826074\n",
      " -64081.17471747 -63865.17743066 -63155.60823298 -62230.4821558\n",
      " -61305.78984612 -60381.52467585 -59457.68002768 -58534.24929567\n",
      " -57611.22588472 -57309.12262475 -56688.60321031 -55766.37469867\n",
      " -54844.53378628 -53923.07391962 -53001.98855564 -52081.27116043\n",
      " -51160.91521055 -50240.91419126 -49321.26159733 -48401.95093313\n",
      " -47482.97571148 -46564.32945401 -45646.00569092 -44727.99796144\n",
      " -43810.29981241 -42892.90479858 -41975.80648322 -41058.99843706\n",
      " -40142.47423809 -39740.12384613 -39226.22747284 -38310.25173326\n",
      " -37394.54062016 -36479.08773998 -35563.88670637 -35201.16480392\n",
      " -34648.93113967 -33734.21466632 -32819.73091973 -31905.47353712\n",
      " -30991.43616496 -30077.6124527  -29163.99605653 -28250.58063779\n",
      " -27337.35986327 -26424.32740427 -25511.47693738 -24598.80214408\n",
      " -23686.29670974 -22773.95432541 -21861.76868423 -20949.73348549\n",
      " -20037.84243122 -19126.08922777 -18214.46758515 -17302.97121589\n",
      " -16391.59383599 -16300.35416738 -15480.32916586 -14569.17092724\n",
      " -13658.11284481 -12747.14864675 -11836.27206348 -10925.47682717\n",
      " -10014.7566716   -9104.10533412  -8745.84840637  -8193.51655207\n",
      "  -7282.98406526  -6372.50161543  -5462.06294608  -4551.66179889\n",
      "  -3656.59506397  -3641.29192085  -2730.94705412  -1820.62094716\n",
      "   -910.30734821]\n"
     ]
    }
   ],
   "source": [
    "len(listofcontours_xg)\n",
    "print(listofcontours_yg[0])"
   ],
   "metadata": {
    "collapsed": false
   }
  },
  {
   "cell_type": "markdown",
   "source": [
    "colormap on sphere"
   ],
   "metadata": {
    "collapsed": false
   }
  },
  {
   "cell_type": "code",
   "execution_count": 73,
   "outputs": [],
   "source": [
    "# fourth dimention - colormap\n",
    "# create colormap according to GG-value\n",
    "color_dimension = GG  # change to desired fourth dimension\n",
    "minn, maxx = -30, 0\n",
    "norm = matplotlib.colors.Normalize(vmin=minn, vmax=maxx)\n",
    "m = plt.cm.ScalarMappable(norm=norm, cmap='jet')\n",
    "m.set_array([])\n",
    "fcolors = m.to_rgba(np.where(GG > minn, color_dimension, minn))"
   ],
   "metadata": {
    "collapsed": false
   }
  },
  {
   "cell_type": "code",
   "execution_count": 73,
   "outputs": [],
   "source": [],
   "metadata": {
    "collapsed": false
   }
  },
  {
   "cell_type": "code",
   "execution_count": 74,
   "outputs": [],
   "source": [
    "# earth sphere\n",
    "\n",
    "u, v = np.mgrid[0:2 * np.pi:90j, 0:np.pi:45j]\n",
    "r = np.ones_like(u) * (6371e3)\n",
    "\n",
    "x, y, z = meshSph2cart(r, v, u)\n",
    "z -= 6371e3\n"
   ],
   "metadata": {
    "collapsed": false
   }
  },
  {
   "cell_type": "code",
   "execution_count": 75,
   "outputs": [],
   "source": [
    "# nadir\n",
    "u = np.linspace(0, 2 * np.pi, 360)\n",
    "r = np.ones_like(u) * 6371e3\n",
    "\n",
    "xn = np.cos(u) * r\n",
    "zn = np.sin(u) * r\n",
    "yn = np.zeros_like(u)\n",
    "zn -= 6371e3\n",
    "# track\n",
    "xt = np.cos(u) * (r + h)\n",
    "zt = np.sin(u) * (r + h)\n",
    "yt = np.zeros_like(u)\n",
    "zt -= 6371e3\n",
    "\n",
    "# crossnadir\n",
    "yc = np.cos(u) * r\n",
    "zc = np.sin(u) * r\n",
    "xc = np.zeros_like(u)\n",
    "zc -= 6371e3"
   ],
   "metadata": {
    "collapsed": false
   }
  },
  {
   "cell_type": "code",
   "execution_count": 76,
   "outputs": [],
   "source": [
    "# test plot of surface\n",
    "fig = plt.figure(figsize=(11, 6))\n",
    "ax = plt.axes(projection='3d', computed_zorder=False)\n",
    "\n",
    "# earth\n",
    "ax.plot_surface(x, y, z, rstride=1, cstride=1, linewidth=0, antialiased=False, shade=False, zorder=4.0)\n",
    "# coordinatesa\n",
    "#ax.plot_surface(Xg, Yg, Zg, facecolors=fcolors, vmin=minn, vmax=maxx, rstride=1, cstride=1, shade=False, linewidth=0,\n",
    "#                antialiased=False, zorder=4.1)\n",
    "ax.set_box_aspect([ub - lb for lb, ub in (getattr(ax, f'get_{a}lim')() for a in 'xyz')])\n",
    "ax.set_xlim(-1000e3, 1000e3)\n",
    "ax.set_ylim(-5000e3, 1000e3)\n",
    "ax.set_zlim(-10e3, 500e3)\n",
    "ax.set_box_aspect([ub - lb for lb, ub in (getattr(ax, f'get_{a}lim')() for a in 'xyz')])\n",
    "\n",
    "# nadir\n",
    "ax.plot(xn, yn, zn, color='k', zorder=4.2)\n",
    "# cross nadir\n",
    "ax.plot(xc, yc, zc, color='k', zorder=4.2)\n",
    "# track\n",
    "# cross nadir\n",
    "ax.plot(xt, yt, zt, color='k', zorder=4.2)\n",
    "ax.set_axis_off()\n"
   ],
   "metadata": {
    "collapsed": false
   }
  },
  {
   "cell_type": "code",
   "execution_count": 77,
   "outputs": [],
   "source": [
    "# contours plot\n",
    "for ii in range(len(listofcontours_xg)):\n",
    "    ax.plot(listofcontours_xg[ii], listofcontours_yg[ii], listofcontours_zg[ii], color=listofcontours_rgba[ii], zorder=4.2)\n",
    "plt.show()"
   ],
   "metadata": {
    "collapsed": false
   }
  },
  {
   "cell_type": "code",
   "execution_count": 77,
   "outputs": [],
   "source": [],
   "metadata": {
    "collapsed": false
   }
  }
 ],
 "metadata": {
  "kernelspec": {
   "display_name": "Python 3",
   "language": "python",
   "name": "python3"
  },
  "language_info": {
   "codemirror_mode": {
    "name": "ipython",
    "version": 2
   },
   "file_extension": ".py",
   "mimetype": "text/x-python",
   "name": "python",
   "nbconvert_exporter": "python",
   "pygments_lexer": "ipython2",
   "version": "2.7.6"
  }
 },
 "nbformat": 4,
 "nbformat_minor": 0
}
